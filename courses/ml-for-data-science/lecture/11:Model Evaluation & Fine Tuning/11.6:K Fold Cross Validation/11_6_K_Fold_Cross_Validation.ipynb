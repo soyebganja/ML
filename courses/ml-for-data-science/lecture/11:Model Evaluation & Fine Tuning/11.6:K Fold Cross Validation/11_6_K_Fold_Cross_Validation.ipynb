{
  "nbformat": 4,
  "nbformat_minor": 0,
  "metadata": {
    "colab": {
      "provenance": []
    },
    "kernelspec": {
      "name": "python3",
      "display_name": "Python 3"
    },
    "language_info": {
      "name": "python"
    }
  },
  "cells": [
    {
      "cell_type": "code",
      "execution_count": 6,
      "metadata": {
        "id": "SycmK1fJpczF"
      },
      "outputs": [],
      "source": [
        "import numpy as np\n",
        "import matplotlib.pyplot as plt\n",
        "from sklearn.datasets import make_classification\n",
        "from sklearn.linear_model import LogisticRegression\n",
        "from sklearn.model_selection import train_test_split\n",
        "from sklearn.metrics import classification_report, accuracy_score"
      ]
    },
    {
      "cell_type": "code",
      "source": [
        "X, y = make_classification(\n",
        "    n_samples=1000,\n",
        "    n_features=10,\n",
        "    n_informative=8,\n",
        "    n_redundant=2,\n",
        "    n_repeated=0,\n",
        "    n_classes=2,\n",
        "    random_state=42\n",
        ")\n",
        "\n",
        "X_train, X_test, y_train, y_test = train_test_split(X, y, test_size=0.25, random_state=42)"
      ],
      "metadata": {
        "id": "bYsmzZaophsb"
      },
      "execution_count": 7,
      "outputs": []
    },
    {
      "cell_type": "code",
      "source": [
        "model_lr = LogisticRegression()\n",
        "model_lr.fit(X_train, y_train)\n",
        "\n",
        "y_pred = model_lr.predict(X_test)\n",
        "print(classification_report(y_test, y_pred))"
      ],
      "metadata": {
        "colab": {
          "base_uri": "https://localhost:8080/"
        },
        "id": "vyMtEWZVpmk6",
        "outputId": "ffc5eb02-580b-4d2c-cfeb-220c803d358b"
      },
      "execution_count": 8,
      "outputs": [
        {
          "output_type": "stream",
          "name": "stdout",
          "text": [
            "              precision    recall  f1-score   support\n",
            "\n",
            "           0       0.73      0.65      0.69       130\n",
            "           1       0.66      0.74      0.70       120\n",
            "\n",
            "    accuracy                           0.70       250\n",
            "   macro avg       0.70      0.70      0.70       250\n",
            "weighted avg       0.70      0.70      0.70       250\n",
            "\n"
          ]
        }
      ]
    },
    {
      "cell_type": "code",
      "source": [
        "from sklearn.model_selection import KFold\n",
        "\n",
        "kf = KFold(n_splits=5, shuffle=True, random_state=42)\n",
        "\n",
        "for train_index, test_index in kf.split(X):\n",
        "    X_train, X_test = X[train_index], X[test_index]\n",
        "    y_train, y_test = y[train_index], y[test_index]\n",
        "\n",
        "    model_lr = LogisticRegression()\n",
        "    model_lr.fit(X_train, y_train)\n",
        "    print(model_lr.score(X_test, y_test))\n",
        "\n",
        "    # y_pred = model_lr.predict(X_test)\n",
        "    # print(classification_report(y_test, y_pred))"
      ],
      "metadata": {
        "colab": {
          "base_uri": "https://localhost:8080/"
        },
        "id": "ZPpUXy0-pqOC",
        "outputId": "37098005-1d7d-44cd-a249-b65502dd0d9e"
      },
      "execution_count": 14,
      "outputs": [
        {
          "output_type": "stream",
          "name": "stdout",
          "text": [
            "0.675\n",
            "0.715\n",
            "0.72\n",
            "0.645\n",
            "0.72\n"
          ]
        }
      ]
    },
    {
      "cell_type": "markdown",
      "source": [
        "### Evaluate Logistic Regression"
      ],
      "metadata": {
        "id": "CyclbrTHwdI4"
      }
    },
    {
      "cell_type": "code",
      "source": [
        "from sklearn.model_selection import cross_val_score\n",
        "\n",
        "scores_lg = cross_val_score(LogisticRegression(), X, y, cv=kf)\n",
        "np.average(scores_lg)"
      ],
      "metadata": {
        "colab": {
          "base_uri": "https://localhost:8080/"
        },
        "id": "uEK1LCiwrQGT",
        "outputId": "8ae7f8ec-8910-45e9-f33a-04b959d32ab7"
      },
      "execution_count": 15,
      "outputs": [
        {
          "output_type": "execute_result",
          "data": {
            "text/plain": [
              "0.6950000000000001"
            ]
          },
          "metadata": {},
          "execution_count": 15
        }
      ]
    },
    {
      "cell_type": "markdown",
      "source": [
        "### Evaluate Decision Tree"
      ],
      "metadata": {
        "id": "FBtF2Know1iw"
      }
    },
    {
      "cell_type": "code",
      "source": [
        "from sklearn.tree import DecisionTreeClassifier\n",
        "\n",
        "scores_dt = cross_val_score(DecisionTreeClassifier(), X, y, cv=kf)\n",
        "np.average(scores_dt)"
      ],
      "metadata": {
        "colab": {
          "base_uri": "https://localhost:8080/"
        },
        "id": "2TaU7KKgvmd3",
        "outputId": "d4d389cf-115b-4019-912a-d01e24722b0e"
      },
      "execution_count": 16,
      "outputs": [
        {
          "output_type": "execute_result",
          "data": {
            "text/plain": [
              "0.784"
            ]
          },
          "metadata": {},
          "execution_count": 16
        }
      ]
    },
    {
      "cell_type": "code",
      "source": [
        "### Evaluate Ramdom Forest Classifer"
      ],
      "metadata": {
        "id": "dTLzrp_TxvY5"
      },
      "execution_count": 17,
      "outputs": []
    },
    {
      "cell_type": "code",
      "source": [
        "from sklearn.ensemble import RandomForestClassifier\n",
        "\n",
        "scores_rf = cross_val_score(RandomForestClassifier(n_estimators=40), X, y, cv=kf)\n",
        "np.average(scores_rf)"
      ],
      "metadata": {
        "colab": {
          "base_uri": "https://localhost:8080/"
        },
        "id": "yRIwqcs20pJF",
        "outputId": "7e21fc06-0a6a-426e-8287-4f46eb839ba9"
      },
      "execution_count": 18,
      "outputs": [
        {
          "output_type": "execute_result",
          "data": {
            "text/plain": [
              "0.893"
            ]
          },
          "metadata": {},
          "execution_count": 18
        }
      ]
    },
    {
      "cell_type": "code",
      "source": [
        "scores_rf = cross_val_score(RandomForestClassifier(n_estimators=40), X, y, cv=kf, scoring='roc_auc')\n",
        "np.average(scores_rf)"
      ],
      "metadata": {
        "colab": {
          "base_uri": "https://localhost:8080/"
        },
        "id": "86j3v4En0vra",
        "outputId": "85c61356-d195-4bbb-dafb-63d486b1a5eb"
      },
      "execution_count": 19,
      "outputs": [
        {
          "output_type": "execute_result",
          "data": {
            "text/plain": [
              "0.9511150756681174"
            ]
          },
          "metadata": {},
          "execution_count": 19
        }
      ]
    },
    {
      "cell_type": "code",
      "source": [
        "from sklearn.model_selection import cross_validate\n",
        "\n",
        "cross_validate(RandomForestClassifier(n_estimators=40), X, y, cv=kf, scoring=['accuracy', 'roc_auc'])"
      ],
      "metadata": {
        "colab": {
          "base_uri": "https://localhost:8080/"
        },
        "id": "dShkPl6Z06F7",
        "outputId": "d2315891-0d8e-400b-c55f-6fdaac14c035"
      },
      "execution_count": 20,
      "outputs": [
        {
          "output_type": "execute_result",
          "data": {
            "text/plain": [
              "{'fit_time': array([0.26354122, 0.40298629, 0.23116398, 0.29280853, 0.41118717]),\n",
              " 'score_time': array([0.02406096, 0.01981044, 0.02697015, 0.02301073, 0.04688549]),\n",
              " 'test_accuracy': array([0.865, 0.91 , 0.87 , 0.88 , 0.89 ]),\n",
              " 'test_roc_auc': array([0.93145323, 0.94692877, 0.95513205, 0.95888421, 0.95890205])}"
            ]
          },
          "metadata": {},
          "execution_count": 20
        }
      ]
    },
    {
      "cell_type": "code",
      "source": [],
      "metadata": {
        "id": "Dk7ma0DZ1ORR"
      },
      "execution_count": null,
      "outputs": []
    }
  ]
}