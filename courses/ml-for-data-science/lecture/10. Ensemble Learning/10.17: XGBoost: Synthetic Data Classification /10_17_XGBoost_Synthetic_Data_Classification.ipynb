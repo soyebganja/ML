{
  "nbformat": 4,
  "nbformat_minor": 0,
  "metadata": {
    "colab": {
      "provenance": []
    },
    "kernelspec": {
      "name": "python3",
      "display_name": "Python 3"
    },
    "language_info": {
      "name": "python"
    }
  },
  "cells": [
    {
      "cell_type": "code",
      "execution_count": 15,
      "metadata": {
        "id": "oQXyJi75I0IG"
      },
      "outputs": [],
      "source": [
        "from sklearn.datasets import make_classification\n",
        "from sklearn.model_selection import train_test_split\n",
        "\n",
        "from sklearn.neighbors import KNeighborsClassifier\n",
        "import numpy as np"
      ]
    },
    {
      "cell_type": "code",
      "source": [
        "X, y = make_classification(\n",
        "    n_samples=10000,\n",
        "    n_features=10,\n",
        "    n_informative=8,\n",
        "    n_redundant=2,\n",
        "    n_repeated=0,\n",
        "    n_classes=3,\n",
        "    random_state=42,\n",
        ")"
      ],
      "metadata": {
        "id": "FNG0SX5DJ3-d"
      },
      "execution_count": 16,
      "outputs": []
    },
    {
      "cell_type": "code",
      "source": [
        "X.shape"
      ],
      "metadata": {
        "colab": {
          "base_uri": "https://localhost:8080/"
        },
        "id": "Gou4-xlSX2p4",
        "outputId": "3cdfedad-ff3d-4b2d-cb08-cc2b134fd708"
      },
      "execution_count": 17,
      "outputs": [
        {
          "output_type": "execute_result",
          "data": {
            "text/plain": [
              "(10000, 10)"
            ]
          },
          "metadata": {},
          "execution_count": 17
        }
      ]
    },
    {
      "cell_type": "code",
      "source": [
        "X[:2]"
      ],
      "metadata": {
        "colab": {
          "base_uri": "https://localhost:8080/"
        },
        "id": "xF7-AC3fXo7c",
        "outputId": "20c9e3c5-4afd-462e-a43e-aa89b8a86412"
      },
      "execution_count": 18,
      "outputs": [
        {
          "output_type": "execute_result",
          "data": {
            "text/plain": [
              "array([[-5.31573515,  0.6775586 , -4.43495008, -1.755074  , -0.47264511,\n",
              "        -2.96504643,  2.39563871, -0.38616042, -5.99696616,  2.70706827],\n",
              "       [-1.71149777,  1.42608068, -0.56808572,  1.19785018, -1.45465463,\n",
              "         2.03940975, -1.64207421,  0.54053374, -1.52128605,  1.09364584]])"
            ]
          },
          "metadata": {},
          "execution_count": 18
        }
      ]
    },
    {
      "cell_type": "code",
      "source": [
        "y[:2]"
      ],
      "metadata": {
        "colab": {
          "base_uri": "https://localhost:8080/"
        },
        "id": "HEvGhcgvXs5w",
        "outputId": "c938a1d9-e108-49bd-9e2e-aecf1089e7be"
      },
      "execution_count": 19,
      "outputs": [
        {
          "output_type": "execute_result",
          "data": {
            "text/plain": [
              "array([2, 1])"
            ]
          },
          "metadata": {},
          "execution_count": 19
        }
      ]
    },
    {
      "cell_type": "markdown",
      "source": [
        "### Model Training using Logistic Regression"
      ],
      "metadata": {
        "id": "GvwVKqiSaAro"
      }
    },
    {
      "cell_type": "code",
      "source": [
        "X_train, X_test, y_train, y_test = train_test_split(    X, y, test_size=0.2, random_state=1)\n",
        "\n",
        "from sklearn.linear_model import LogisticRegression\n",
        "from sklearn.metrics import classification_report\n",
        "import time\n",
        "\n",
        "start = time.time()\n",
        "model_lm = LogisticRegression()\n",
        "model_lm.fit(X_train, y_train)\n",
        "end = time.time()\n",
        "\n",
        "y_pred = model_lm.predict(X_test)\n",
        "print(classification_report(y_test, y_pred))\n",
        "print('time taken:', end - start)"
      ],
      "metadata": {
        "colab": {
          "base_uri": "https://localhost:8080/"
        },
        "id": "Jefn0HecXut0",
        "outputId": "d43c5d32-9dea-4a02-f57f-b80f30f0607e"
      },
      "execution_count": 24,
      "outputs": [
        {
          "output_type": "stream",
          "name": "stdout",
          "text": [
            "              precision    recall  f1-score   support\n",
            "\n",
            "           0       0.74      0.70      0.72       677\n",
            "           1       0.76      0.77      0.76       664\n",
            "           2       0.68      0.71      0.70       659\n",
            "\n",
            "    accuracy                           0.73      2000\n",
            "   macro avg       0.73      0.73      0.73      2000\n",
            "weighted avg       0.73      0.73      0.73      2000\n",
            "\n",
            "time taken: 0.040493011474609375\n"
          ]
        }
      ]
    },
    {
      "cell_type": "markdown",
      "source": [
        "### Model Training using XGBoost"
      ],
      "metadata": {
        "id": "w8iPvLLnaH9a"
      }
    },
    {
      "cell_type": "code",
      "source": [
        "from xgboost import XGBClassifier\n",
        "\n",
        "start = time.time()\n",
        "model_xgb = XGBClassifier()\n",
        "model_xgb.fit(X_train, y_train)\n",
        "end = time.time()\n",
        "\n",
        "y_pred = model_xgb.predict(X_test)\n",
        "print(classification_report(y_test, y_pred))\n",
        "print('time taken:', end - start)"
      ],
      "metadata": {
        "colab": {
          "base_uri": "https://localhost:8080/"
        },
        "id": "ESTJMGhYZiPK",
        "outputId": "ae181186-aabd-4fcb-dd07-77c8dc97fda0"
      },
      "execution_count": 25,
      "outputs": [
        {
          "output_type": "stream",
          "name": "stdout",
          "text": [
            "              precision    recall  f1-score   support\n",
            "\n",
            "           0       0.88      0.90      0.89       677\n",
            "           1       0.91      0.91      0.91       664\n",
            "           2       0.91      0.90      0.91       659\n",
            "\n",
            "    accuracy                           0.90      2000\n",
            "   macro avg       0.90      0.90      0.90      2000\n",
            "weighted avg       0.90      0.90      0.90      2000\n",
            "\n",
            "time taken: 2.472207546234131\n"
          ]
        }
      ]
    },
    {
      "cell_type": "code",
      "source": [],
      "metadata": {
        "id": "12WlCUHEaVeo"
      },
      "execution_count": 21,
      "outputs": []
    }
  ]
}